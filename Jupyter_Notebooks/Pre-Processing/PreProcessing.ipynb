{
 "cells": [
  {
   "cell_type": "code",
   "execution_count": 36,
   "metadata": {},
   "outputs": [],
   "source": [
    "import pandas as pd\n",
    "import numpy as np\n",
    "import csv\n",
    "df=pd.read_csv('../WebScraping/Data.csv')"
   ]
  },
  {
   "cell_type": "code",
   "execution_count": 37,
   "metadata": {},
   "outputs": [
    {
     "data": {
      "text/html": [
       "<div>\n",
       "<style scoped>\n",
       "    .dataframe tbody tr th:only-of-type {\n",
       "        vertical-align: middle;\n",
       "    }\n",
       "\n",
       "    .dataframe tbody tr th {\n",
       "        vertical-align: top;\n",
       "    }\n",
       "\n",
       "    .dataframe thead th {\n",
       "        text-align: right;\n",
       "    }\n",
       "</style>\n",
       "<table border=\"1\" class=\"dataframe\">\n",
       "  <thead>\n",
       "    <tr style=\"text-align: right;\">\n",
       "      <th></th>\n",
       "      <th>Submission Date</th>\n",
       "      <th>Title</th>\n",
       "      <th>Author</th>\n",
       "      <th>Supervisor</th>\n",
       "      <th>Degree</th>\n",
       "      <th>Department</th>\n",
       "      <th>Abstract</th>\n",
       "      <th>URL</th>\n",
       "    </tr>\n",
       "  </thead>\n",
       "  <tbody>\n",
       "    <tr>\n",
       "      <th>0</th>\n",
       "      <td>8-Nov-2020</td>\n",
       "      <td>Effect of Acoustic perturbation on the Transit...</td>\n",
       "      <td>Tiwari, Akhilesh S</td>\n",
       "      <td>Kumar, Sanjay</td>\n",
       "      <td>M.TECH.</td>\n",
       "      <td>AE</td>\n",
       "      <td>An experimental study of the effect of acousti...</td>\n",
       "      <td>http://172.28.64.70:8080/jspui/handle/12345678...</td>\n",
       "    </tr>\n",
       "    <tr>\n",
       "      <th>1</th>\n",
       "      <td>7-Oct-2020</td>\n",
       "      <td>Design of Graphene and Carbon Black Based Plan...</td>\n",
       "      <td>Arora, Mayank</td>\n",
       "      <td>Akhtar, M Jaleel</td>\n",
       "      <td>M.TECH.</td>\n",
       "      <td>MSP</td>\n",
       "      <td>The application of attenuators in the RF and m...</td>\n",
       "      <td>http://172.28.64.70:8080/jspui/handle/12345678...</td>\n",
       "    </tr>\n",
       "    <tr>\n",
       "      <th>2</th>\n",
       "      <td>30-Sep-2020</td>\n",
       "      <td>Generative Models for Zero-Shot and Generalize...</td>\n",
       "      <td>Verma, Vinay Kumar</td>\n",
       "      <td>Rai, Piyush</td>\n",
       "      <td>PH.D.</td>\n",
       "      <td>CSE</td>\n",
       "      <td>Zero-shot learning is the problem of learning ...</td>\n",
       "      <td>http://172.28.64.70:8080/jspui/handle/12345678...</td>\n",
       "    </tr>\n",
       "    <tr>\n",
       "      <th>3</th>\n",
       "      <td>25-Sep-2020</td>\n",
       "      <td>A NUMERICAL STUDY ON HYDRATE FORMATION AND DEP...</td>\n",
       "      <td>Jat, Shashank S</td>\n",
       "      <td>Das, Malay K</td>\n",
       "      <td>M.TECH.</td>\n",
       "      <td>ME</td>\n",
       "      <td>Hydrate formation and deposition is a big chal...</td>\n",
       "      <td>http://172.28.64.70:8080/jspui/handle/12345678...</td>\n",
       "    </tr>\n",
       "  </tbody>\n",
       "</table>\n",
       "</div>"
      ],
      "text/plain": [
       "  Submission Date                                              Title  \\\n",
       "0      8-Nov-2020  Effect of Acoustic perturbation on the Transit...   \n",
       "1      7-Oct-2020  Design of Graphene and Carbon Black Based Plan...   \n",
       "2     30-Sep-2020  Generative Models for Zero-Shot and Generalize...   \n",
       "3     25-Sep-2020  A NUMERICAL STUDY ON HYDRATE FORMATION AND DEP...   \n",
       "\n",
       "               Author        Supervisor   Degree Department  \\\n",
       "0  Tiwari, Akhilesh S     Kumar, Sanjay  M.TECH.         AE   \n",
       "1       Arora, Mayank  Akhtar, M Jaleel  M.TECH.        MSP   \n",
       "2  Verma, Vinay Kumar       Rai, Piyush    PH.D.        CSE   \n",
       "3     Jat, Shashank S      Das, Malay K  M.TECH.         ME   \n",
       "\n",
       "                                            Abstract  \\\n",
       "0  An experimental study of the effect of acousti...   \n",
       "1  The application of attenuators in the RF and m...   \n",
       "2  Zero-shot learning is the problem of learning ...   \n",
       "3  Hydrate formation and deposition is a big chal...   \n",
       "\n",
       "                                                 URL  \n",
       "0  http://172.28.64.70:8080/jspui/handle/12345678...  \n",
       "1  http://172.28.64.70:8080/jspui/handle/12345678...  \n",
       "2  http://172.28.64.70:8080/jspui/handle/12345678...  \n",
       "3  http://172.28.64.70:8080/jspui/handle/12345678...  "
      ]
     },
     "execution_count": 37,
     "metadata": {},
     "output_type": "execute_result"
    }
   ],
   "source": [
    "df.head(4)"
   ]
  },
  {
   "cell_type": "code",
   "execution_count": 38,
   "metadata": {},
   "outputs": [
    {
     "data": {
      "text/plain": [
       "18000"
      ]
     },
     "execution_count": 38,
     "metadata": {},
     "output_type": "execute_result"
    }
   ],
   "source": [
    "len(df)"
   ]
  },
  {
   "cell_type": "code",
   "execution_count": 39,
   "metadata": {},
   "outputs": [],
   "source": [
    "def fun(x):\n",
    "    k=x.split('-')\n",
    "    if(len(k)==3):\n",
    "        return int(k[2])\n",
    "    elif(len(k)==2):\n",
    "        return int(k[1])\n",
    "    elif(len(k)==1):\n",
    "        return int(k[0])"
   ]
  },
  {
   "cell_type": "code",
   "execution_count": 40,
   "metadata": {},
   "outputs": [],
   "source": [
    "df['Date']=df['Submission Date'].apply(lambda x:fun(x))"
   ]
  },
  {
   "cell_type": "code",
   "execution_count": 41,
   "metadata": {},
   "outputs": [
    {
     "data": {
      "text/html": [
       "<div>\n",
       "<style scoped>\n",
       "    .dataframe tbody tr th:only-of-type {\n",
       "        vertical-align: middle;\n",
       "    }\n",
       "\n",
       "    .dataframe tbody tr th {\n",
       "        vertical-align: top;\n",
       "    }\n",
       "\n",
       "    .dataframe thead th {\n",
       "        text-align: right;\n",
       "    }\n",
       "</style>\n",
       "<table border=\"1\" class=\"dataframe\">\n",
       "  <thead>\n",
       "    <tr style=\"text-align: right;\">\n",
       "      <th></th>\n",
       "      <th>Submission Date</th>\n",
       "      <th>Title</th>\n",
       "      <th>Author</th>\n",
       "      <th>Supervisor</th>\n",
       "      <th>Degree</th>\n",
       "      <th>Department</th>\n",
       "      <th>Abstract</th>\n",
       "      <th>URL</th>\n",
       "      <th>Date</th>\n",
       "    </tr>\n",
       "  </thead>\n",
       "  <tbody>\n",
       "    <tr>\n",
       "      <th>0</th>\n",
       "      <td>8-Nov-2020</td>\n",
       "      <td>Effect of Acoustic perturbation on the Transit...</td>\n",
       "      <td>Tiwari, Akhilesh S</td>\n",
       "      <td>Kumar, Sanjay</td>\n",
       "      <td>M.TECH.</td>\n",
       "      <td>AE</td>\n",
       "      <td>An experimental study of the effect of acousti...</td>\n",
       "      <td>http://172.28.64.70:8080/jspui/handle/12345678...</td>\n",
       "      <td>2020</td>\n",
       "    </tr>\n",
       "    <tr>\n",
       "      <th>1</th>\n",
       "      <td>7-Oct-2020</td>\n",
       "      <td>Design of Graphene and Carbon Black Based Plan...</td>\n",
       "      <td>Arora, Mayank</td>\n",
       "      <td>Akhtar, M Jaleel</td>\n",
       "      <td>M.TECH.</td>\n",
       "      <td>MSP</td>\n",
       "      <td>The application of attenuators in the RF and m...</td>\n",
       "      <td>http://172.28.64.70:8080/jspui/handle/12345678...</td>\n",
       "      <td>2020</td>\n",
       "    </tr>\n",
       "    <tr>\n",
       "      <th>2</th>\n",
       "      <td>30-Sep-2020</td>\n",
       "      <td>Generative Models for Zero-Shot and Generalize...</td>\n",
       "      <td>Verma, Vinay Kumar</td>\n",
       "      <td>Rai, Piyush</td>\n",
       "      <td>PH.D.</td>\n",
       "      <td>CSE</td>\n",
       "      <td>Zero-shot learning is the problem of learning ...</td>\n",
       "      <td>http://172.28.64.70:8080/jspui/handle/12345678...</td>\n",
       "      <td>2020</td>\n",
       "    </tr>\n",
       "    <tr>\n",
       "      <th>3</th>\n",
       "      <td>25-Sep-2020</td>\n",
       "      <td>A NUMERICAL STUDY ON HYDRATE FORMATION AND DEP...</td>\n",
       "      <td>Jat, Shashank S</td>\n",
       "      <td>Das, Malay K</td>\n",
       "      <td>M.TECH.</td>\n",
       "      <td>ME</td>\n",
       "      <td>Hydrate formation and deposition is a big chal...</td>\n",
       "      <td>http://172.28.64.70:8080/jspui/handle/12345678...</td>\n",
       "      <td>2020</td>\n",
       "    </tr>\n",
       "  </tbody>\n",
       "</table>\n",
       "</div>"
      ],
      "text/plain": [
       "  Submission Date                                              Title  \\\n",
       "0      8-Nov-2020  Effect of Acoustic perturbation on the Transit...   \n",
       "1      7-Oct-2020  Design of Graphene and Carbon Black Based Plan...   \n",
       "2     30-Sep-2020  Generative Models for Zero-Shot and Generalize...   \n",
       "3     25-Sep-2020  A NUMERICAL STUDY ON HYDRATE FORMATION AND DEP...   \n",
       "\n",
       "               Author        Supervisor   Degree Department  \\\n",
       "0  Tiwari, Akhilesh S     Kumar, Sanjay  M.TECH.         AE   \n",
       "1       Arora, Mayank  Akhtar, M Jaleel  M.TECH.        MSP   \n",
       "2  Verma, Vinay Kumar       Rai, Piyush    PH.D.        CSE   \n",
       "3     Jat, Shashank S      Das, Malay K  M.TECH.         ME   \n",
       "\n",
       "                                            Abstract  \\\n",
       "0  An experimental study of the effect of acousti...   \n",
       "1  The application of attenuators in the RF and m...   \n",
       "2  Zero-shot learning is the problem of learning ...   \n",
       "3  Hydrate formation and deposition is a big chal...   \n",
       "\n",
       "                                                 URL  Date  \n",
       "0  http://172.28.64.70:8080/jspui/handle/12345678...  2020  \n",
       "1  http://172.28.64.70:8080/jspui/handle/12345678...  2020  \n",
       "2  http://172.28.64.70:8080/jspui/handle/12345678...  2020  \n",
       "3  http://172.28.64.70:8080/jspui/handle/12345678...  2020  "
      ]
     },
     "execution_count": 41,
     "metadata": {},
     "output_type": "execute_result"
    }
   ],
   "source": [
    "df.head(4)"
   ]
  },
  {
   "cell_type": "code",
   "execution_count": 42,
   "metadata": {},
   "outputs": [
    {
     "data": {
      "text/html": [
       "<div>\n",
       "<style scoped>\n",
       "    .dataframe tbody tr th:only-of-type {\n",
       "        vertical-align: middle;\n",
       "    }\n",
       "\n",
       "    .dataframe tbody tr th {\n",
       "        vertical-align: top;\n",
       "    }\n",
       "\n",
       "    .dataframe thead th {\n",
       "        text-align: right;\n",
       "    }\n",
       "</style>\n",
       "<table border=\"1\" class=\"dataframe\">\n",
       "  <thead>\n",
       "    <tr style=\"text-align: right;\">\n",
       "      <th></th>\n",
       "      <th>Submission Date</th>\n",
       "      <th>Title</th>\n",
       "      <th>Author</th>\n",
       "      <th>Supervisor</th>\n",
       "      <th>Degree</th>\n",
       "      <th>Department</th>\n",
       "      <th>Abstract</th>\n",
       "      <th>URL</th>\n",
       "      <th>Date</th>\n",
       "      <th>check</th>\n",
       "    </tr>\n",
       "  </thead>\n",
       "  <tbody>\n",
       "  </tbody>\n",
       "</table>\n",
       "</div>"
      ],
      "text/plain": [
       "Empty DataFrame\n",
       "Columns: [Submission Date, Title, Author, Supervisor, Degree, Department, Abstract, URL, Date, check]\n",
       "Index: []"
      ]
     },
     "execution_count": 42,
     "metadata": {},
     "output_type": "execute_result"
    }
   ],
   "source": [
    "df['check']=df['Date'].isnull()\n",
    "df.loc[df['check']==True]"
   ]
  },
  {
   "cell_type": "code",
   "execution_count": 43,
   "metadata": {},
   "outputs": [],
   "source": [
    "lis=set(df['Department'])"
   ]
  },
  {
   "cell_type": "code",
   "execution_count": 44,
   "metadata": {},
   "outputs": [
    {
     "data": {
      "text/plain": [
       "{'-',\n",
       " 'AE',\n",
       " 'BSBE',\n",
       " 'CE',\n",
       " 'CELP',\n",
       " 'CHE',\n",
       " 'CHM',\n",
       " 'CSE',\n",
       " 'Civil',\n",
       " 'DES',\n",
       " 'DP',\n",
       " 'ECO',\n",
       " 'EE',\n",
       " 'EEM',\n",
       " 'EEMP',\n",
       " 'ES',\n",
       " 'HSS',\n",
       " 'IME',\n",
       " 'LT',\n",
       " 'LTP',\n",
       " 'MATH',\n",
       " 'MATH & STATS',\n",
       " 'ME',\n",
       " 'MME',\n",
       " 'MSE',\n",
       " 'MSP',\n",
       " 'NET',\n",
       " 'NETP',\n",
       " 'PHY'}"
      ]
     },
     "execution_count": 44,
     "metadata": {},
     "output_type": "execute_result"
    }
   ],
   "source": [
    "lis"
   ]
  },
  {
   "cell_type": "code",
   "execution_count": 45,
   "metadata": {},
   "outputs": [
    {
     "data": {
      "text/html": [
       "<div>\n",
       "<style scoped>\n",
       "    .dataframe tbody tr th:only-of-type {\n",
       "        vertical-align: middle;\n",
       "    }\n",
       "\n",
       "    .dataframe tbody tr th {\n",
       "        vertical-align: top;\n",
       "    }\n",
       "\n",
       "    .dataframe thead th {\n",
       "        text-align: right;\n",
       "    }\n",
       "</style>\n",
       "<table border=\"1\" class=\"dataframe\">\n",
       "  <thead>\n",
       "    <tr style=\"text-align: right;\">\n",
       "      <th></th>\n",
       "      <th>Submission Date</th>\n",
       "      <th>Title</th>\n",
       "      <th>Author</th>\n",
       "      <th>Supervisor</th>\n",
       "      <th>Degree</th>\n",
       "      <th>Department</th>\n",
       "      <th>Abstract</th>\n",
       "      <th>URL</th>\n",
       "      <th>Date</th>\n",
       "      <th>check</th>\n",
       "    </tr>\n",
       "  </thead>\n",
       "  <tbody>\n",
       "    <tr>\n",
       "      <th>1995</th>\n",
       "      <td>27-Jul-2017</td>\n",
       "      <td>Flow field outside the shroud tube of a contro...</td>\n",
       "      <td>Kumar, Sunil</td>\n",
       "      <td>Panigrahi, Pradipta K</td>\n",
       "      <td>-</td>\n",
       "      <td>-</td>\n",
       "      <td>A 500MWe Prototype Fast Breeder Reactor(PFBR) ...</td>\n",
       "      <td>http://172.28.64.70:8080/jspui/handle/12345678...</td>\n",
       "      <td>2017</td>\n",
       "      <td>False</td>\n",
       "    </tr>\n",
       "    <tr>\n",
       "      <th>2375</th>\n",
       "      <td>18-Apr-2017</td>\n",
       "      <td>Accelerating Migratory Compression with GPUs</td>\n",
       "      <td>Bhargava, Tarun</td>\n",
       "      <td>Chaudhuri, Mainak</td>\n",
       "      <td>-</td>\n",
       "      <td>-</td>\n",
       "      <td>With the advent of general purpose computing o...</td>\n",
       "      <td>http://172.28.64.70:8080/jspui/handle/12345678...</td>\n",
       "      <td>2017</td>\n",
       "      <td>False</td>\n",
       "    </tr>\n",
       "    <tr>\n",
       "      <th>15287</th>\n",
       "      <td>1-Jul-1983</td>\n",
       "      <td>FUEL SUBSTITUTION IN STEAM ELECTRIC POWER GENE...</td>\n",
       "      <td>Bhattacharyya, Anantadeb</td>\n",
       "      <td>Barthwal, Raja Ram; Rao, T V S Ramamohan</td>\n",
       "      <td>PH.D.</td>\n",
       "      <td>-</td>\n",
       "      <td>Over the past several years there was a steady...</td>\n",
       "      <td>http://172.28.64.70:8080/jspui/handle/12345678...</td>\n",
       "      <td>1983</td>\n",
       "      <td>False</td>\n",
       "    </tr>\n",
       "  </tbody>\n",
       "</table>\n",
       "</div>"
      ],
      "text/plain": [
       "      Submission Date                                              Title  \\\n",
       "1995      27-Jul-2017  Flow field outside the shroud tube of a contro...   \n",
       "2375      18-Apr-2017       Accelerating Migratory Compression with GPUs   \n",
       "15287      1-Jul-1983  FUEL SUBSTITUTION IN STEAM ELECTRIC POWER GENE...   \n",
       "\n",
       "                         Author                                Supervisor  \\\n",
       "1995               Kumar, Sunil                     Panigrahi, Pradipta K   \n",
       "2375            Bhargava, Tarun                         Chaudhuri, Mainak   \n",
       "15287  Bhattacharyya, Anantadeb  Barthwal, Raja Ram; Rao, T V S Ramamohan   \n",
       "\n",
       "      Degree Department                                           Abstract  \\\n",
       "1995       -          -  A 500MWe Prototype Fast Breeder Reactor(PFBR) ...   \n",
       "2375       -          -  With the advent of general purpose computing o...   \n",
       "15287  PH.D.          -  Over the past several years there was a steady...   \n",
       "\n",
       "                                                     URL  Date  check  \n",
       "1995   http://172.28.64.70:8080/jspui/handle/12345678...  2017  False  \n",
       "2375   http://172.28.64.70:8080/jspui/handle/12345678...  2017  False  \n",
       "15287  http://172.28.64.70:8080/jspui/handle/12345678...  1983  False  "
      ]
     },
     "execution_count": 45,
     "metadata": {},
     "output_type": "execute_result"
    }
   ],
   "source": [
    "df.loc[df['Department']=='-']"
   ]
  },
  {
   "cell_type": "code",
   "execution_count": 46,
   "metadata": {},
   "outputs": [],
   "source": [
    "df.at[2375,'Department']='CSE'\n",
    "df.at[1995,'Department']='ME'\n",
    "df.at[15287,'Department']='HSS'"
   ]
  },
  {
   "cell_type": "code",
   "execution_count": 47,
   "metadata": {},
   "outputs": [],
   "source": [
    "kk=set(df['Date'])"
   ]
  },
  {
   "cell_type": "code",
   "execution_count": 48,
   "metadata": {},
   "outputs": [
    {
     "data": {
      "text/plain": [
       "{1965,\n",
       " 1966,\n",
       " 1967,\n",
       " 1968,\n",
       " 1969,\n",
       " 1970,\n",
       " 1971,\n",
       " 1972,\n",
       " 1973,\n",
       " 1974,\n",
       " 1975,\n",
       " 1976,\n",
       " 1977,\n",
       " 1978,\n",
       " 1979,\n",
       " 1980,\n",
       " 1981,\n",
       " 1982,\n",
       " 1983,\n",
       " 1984,\n",
       " 1985,\n",
       " 1986,\n",
       " 1987,\n",
       " 1988,\n",
       " 1989,\n",
       " 1990,\n",
       " 1991,\n",
       " 1992,\n",
       " 1993,\n",
       " 1994,\n",
       " 1995,\n",
       " 1996,\n",
       " 1997,\n",
       " 1998,\n",
       " 1999,\n",
       " 2000,\n",
       " 2001,\n",
       " 2002,\n",
       " 2003,\n",
       " 2004,\n",
       " 2005,\n",
       " 2006,\n",
       " 2007,\n",
       " 2008,\n",
       " 2009,\n",
       " 2010,\n",
       " 2011,\n",
       " 2012,\n",
       " 2013,\n",
       " 2014,\n",
       " 2015,\n",
       " 2016,\n",
       " 2017,\n",
       " 2018,\n",
       " 2019,\n",
       " 2020}"
      ]
     },
     "execution_count": 48,
     "metadata": {},
     "output_type": "execute_result"
    }
   ],
   "source": [
    "kk"
   ]
  },
  {
   "cell_type": "code",
   "execution_count": 49,
   "metadata": {},
   "outputs": [],
   "source": [
    "df.replace(to_replace=\"MATH\",value=\"MATH & STATS\",inplace=True)"
   ]
  },
  {
   "cell_type": "code",
   "execution_count": 50,
   "metadata": {},
   "outputs": [
    {
     "data": {
      "text/html": [
       "<div>\n",
       "<style scoped>\n",
       "    .dataframe tbody tr th:only-of-type {\n",
       "        vertical-align: middle;\n",
       "    }\n",
       "\n",
       "    .dataframe tbody tr th {\n",
       "        vertical-align: top;\n",
       "    }\n",
       "\n",
       "    .dataframe thead th {\n",
       "        text-align: right;\n",
       "    }\n",
       "</style>\n",
       "<table border=\"1\" class=\"dataframe\">\n",
       "  <thead>\n",
       "    <tr style=\"text-align: right;\">\n",
       "      <th></th>\n",
       "      <th>Submission Date</th>\n",
       "      <th>Title</th>\n",
       "      <th>Author</th>\n",
       "      <th>Supervisor</th>\n",
       "      <th>Degree</th>\n",
       "      <th>Department</th>\n",
       "      <th>Abstract</th>\n",
       "      <th>URL</th>\n",
       "      <th>Date</th>\n",
       "      <th>check</th>\n",
       "    </tr>\n",
       "  </thead>\n",
       "  <tbody>\n",
       "    <tr>\n",
       "      <th>0</th>\n",
       "      <td>8-Nov-2020</td>\n",
       "      <td>Effect of Acoustic perturbation on the Transit...</td>\n",
       "      <td>Tiwari, Akhilesh S</td>\n",
       "      <td>Kumar, Sanjay</td>\n",
       "      <td>M.TECH.</td>\n",
       "      <td>AE</td>\n",
       "      <td>An experimental study of the effect of acousti...</td>\n",
       "      <td>http://172.28.64.70:8080/jspui/handle/12345678...</td>\n",
       "      <td>2020</td>\n",
       "      <td>False</td>\n",
       "    </tr>\n",
       "    <tr>\n",
       "      <th>1</th>\n",
       "      <td>7-Oct-2020</td>\n",
       "      <td>Design of Graphene and Carbon Black Based Plan...</td>\n",
       "      <td>Arora, Mayank</td>\n",
       "      <td>Akhtar, M Jaleel</td>\n",
       "      <td>M.TECH.</td>\n",
       "      <td>MSP</td>\n",
       "      <td>The application of attenuators in the RF and m...</td>\n",
       "      <td>http://172.28.64.70:8080/jspui/handle/12345678...</td>\n",
       "      <td>2020</td>\n",
       "      <td>False</td>\n",
       "    </tr>\n",
       "    <tr>\n",
       "      <th>2</th>\n",
       "      <td>30-Sep-2020</td>\n",
       "      <td>Generative Models for Zero-Shot and Generalize...</td>\n",
       "      <td>Verma, Vinay Kumar</td>\n",
       "      <td>Rai, Piyush</td>\n",
       "      <td>PH.D.</td>\n",
       "      <td>CSE</td>\n",
       "      <td>Zero-shot learning is the problem of learning ...</td>\n",
       "      <td>http://172.28.64.70:8080/jspui/handle/12345678...</td>\n",
       "      <td>2020</td>\n",
       "      <td>False</td>\n",
       "    </tr>\n",
       "    <tr>\n",
       "      <th>3</th>\n",
       "      <td>25-Sep-2020</td>\n",
       "      <td>A NUMERICAL STUDY ON HYDRATE FORMATION AND DEP...</td>\n",
       "      <td>Jat, Shashank S</td>\n",
       "      <td>Das, Malay K</td>\n",
       "      <td>M.TECH.</td>\n",
       "      <td>ME</td>\n",
       "      <td>Hydrate formation and deposition is a big chal...</td>\n",
       "      <td>http://172.28.64.70:8080/jspui/handle/12345678...</td>\n",
       "      <td>2020</td>\n",
       "      <td>False</td>\n",
       "    </tr>\n",
       "  </tbody>\n",
       "</table>\n",
       "</div>"
      ],
      "text/plain": [
       "  Submission Date                                              Title  \\\n",
       "0      8-Nov-2020  Effect of Acoustic perturbation on the Transit...   \n",
       "1      7-Oct-2020  Design of Graphene and Carbon Black Based Plan...   \n",
       "2     30-Sep-2020  Generative Models for Zero-Shot and Generalize...   \n",
       "3     25-Sep-2020  A NUMERICAL STUDY ON HYDRATE FORMATION AND DEP...   \n",
       "\n",
       "               Author        Supervisor   Degree Department  \\\n",
       "0  Tiwari, Akhilesh S     Kumar, Sanjay  M.TECH.         AE   \n",
       "1       Arora, Mayank  Akhtar, M Jaleel  M.TECH.        MSP   \n",
       "2  Verma, Vinay Kumar       Rai, Piyush    PH.D.        CSE   \n",
       "3     Jat, Shashank S      Das, Malay K  M.TECH.         ME   \n",
       "\n",
       "                                            Abstract  \\\n",
       "0  An experimental study of the effect of acousti...   \n",
       "1  The application of attenuators in the RF and m...   \n",
       "2  Zero-shot learning is the problem of learning ...   \n",
       "3  Hydrate formation and deposition is a big chal...   \n",
       "\n",
       "                                                 URL  Date  check  \n",
       "0  http://172.28.64.70:8080/jspui/handle/12345678...  2020  False  \n",
       "1  http://172.28.64.70:8080/jspui/handle/12345678...  2020  False  \n",
       "2  http://172.28.64.70:8080/jspui/handle/12345678...  2020  False  \n",
       "3  http://172.28.64.70:8080/jspui/handle/12345678...  2020  False  "
      ]
     },
     "execution_count": 50,
     "metadata": {},
     "output_type": "execute_result"
    }
   ],
   "source": [
    "df.head(4)"
   ]
  },
  {
   "cell_type": "code",
   "execution_count": 51,
   "metadata": {},
   "outputs": [
    {
     "data": {
      "text/plain": [
       "18000"
      ]
     },
     "execution_count": 51,
     "metadata": {},
     "output_type": "execute_result"
    }
   ],
   "source": [
    "len(df)"
   ]
  },
  {
   "cell_type": "code",
   "execution_count": 52,
   "metadata": {},
   "outputs": [],
   "source": [
    "df=df.drop(['Submission Date','check'],axis=1)"
   ]
  },
  {
   "cell_type": "code",
   "execution_count": 53,
   "metadata": {},
   "outputs": [],
   "source": [
    "df['len'] = df['Abstract'].apply(lambda x: len(str(x).split(\" \")))"
   ]
  },
  {
   "cell_type": "code",
   "execution_count": 54,
   "metadata": {},
   "outputs": [],
   "source": [
    "df3=df[~(df['len']<10)]"
   ]
  },
  {
   "cell_type": "code",
   "execution_count": 55,
   "metadata": {},
   "outputs": [
    {
     "data": {
      "text/plain": [
       "17311"
      ]
     },
     "execution_count": 55,
     "metadata": {},
     "output_type": "execute_result"
    }
   ],
   "source": [
    "len(df3)"
   ]
  },
  {
   "cell_type": "code",
   "execution_count": 56,
   "metadata": {},
   "outputs": [
    {
     "data": {
      "text/html": [
       "<div>\n",
       "<style scoped>\n",
       "    .dataframe tbody tr th:only-of-type {\n",
       "        vertical-align: middle;\n",
       "    }\n",
       "\n",
       "    .dataframe tbody tr th {\n",
       "        vertical-align: top;\n",
       "    }\n",
       "\n",
       "    .dataframe thead th {\n",
       "        text-align: right;\n",
       "    }\n",
       "</style>\n",
       "<table border=\"1\" class=\"dataframe\">\n",
       "  <thead>\n",
       "    <tr style=\"text-align: right;\">\n",
       "      <th></th>\n",
       "      <th>Title</th>\n",
       "      <th>Author</th>\n",
       "      <th>Supervisor</th>\n",
       "      <th>Degree</th>\n",
       "      <th>Department</th>\n",
       "      <th>Abstract</th>\n",
       "      <th>URL</th>\n",
       "      <th>Date</th>\n",
       "      <th>len</th>\n",
       "    </tr>\n",
       "  </thead>\n",
       "  <tbody>\n",
       "    <tr>\n",
       "      <th>0</th>\n",
       "      <td>Effect of Acoustic perturbation on the Transit...</td>\n",
       "      <td>Tiwari, Akhilesh S</td>\n",
       "      <td>Kumar, Sanjay</td>\n",
       "      <td>M.TECH.</td>\n",
       "      <td>AE</td>\n",
       "      <td>An experimental study of the effect of acousti...</td>\n",
       "      <td>http://172.28.64.70:8080/jspui/handle/12345678...</td>\n",
       "      <td>2020</td>\n",
       "      <td>280</td>\n",
       "    </tr>\n",
       "    <tr>\n",
       "      <th>1</th>\n",
       "      <td>Design of Graphene and Carbon Black Based Plan...</td>\n",
       "      <td>Arora, Mayank</td>\n",
       "      <td>Akhtar, M Jaleel</td>\n",
       "      <td>M.TECH.</td>\n",
       "      <td>MSP</td>\n",
       "      <td>The application of attenuators in the RF and m...</td>\n",
       "      <td>http://172.28.64.70:8080/jspui/handle/12345678...</td>\n",
       "      <td>2020</td>\n",
       "      <td>532</td>\n",
       "    </tr>\n",
       "    <tr>\n",
       "      <th>2</th>\n",
       "      <td>Generative Models for Zero-Shot and Generalize...</td>\n",
       "      <td>Verma, Vinay Kumar</td>\n",
       "      <td>Rai, Piyush</td>\n",
       "      <td>PH.D.</td>\n",
       "      <td>CSE</td>\n",
       "      <td>Zero-shot learning is the problem of learning ...</td>\n",
       "      <td>http://172.28.64.70:8080/jspui/handle/12345678...</td>\n",
       "      <td>2020</td>\n",
       "      <td>304</td>\n",
       "    </tr>\n",
       "  </tbody>\n",
       "</table>\n",
       "</div>"
      ],
      "text/plain": [
       "                                               Title              Author  \\\n",
       "0  Effect of Acoustic perturbation on the Transit...  Tiwari, Akhilesh S   \n",
       "1  Design of Graphene and Carbon Black Based Plan...       Arora, Mayank   \n",
       "2  Generative Models for Zero-Shot and Generalize...  Verma, Vinay Kumar   \n",
       "\n",
       "         Supervisor   Degree Department  \\\n",
       "0     Kumar, Sanjay  M.TECH.         AE   \n",
       "1  Akhtar, M Jaleel  M.TECH.        MSP   \n",
       "2       Rai, Piyush    PH.D.        CSE   \n",
       "\n",
       "                                            Abstract  \\\n",
       "0  An experimental study of the effect of acousti...   \n",
       "1  The application of attenuators in the RF and m...   \n",
       "2  Zero-shot learning is the problem of learning ...   \n",
       "\n",
       "                                                 URL  Date  len  \n",
       "0  http://172.28.64.70:8080/jspui/handle/12345678...  2020  280  \n",
       "1  http://172.28.64.70:8080/jspui/handle/12345678...  2020  532  \n",
       "2  http://172.28.64.70:8080/jspui/handle/12345678...  2020  304  "
      ]
     },
     "execution_count": 56,
     "metadata": {},
     "output_type": "execute_result"
    }
   ],
   "source": [
    "df3.head(3)"
   ]
  },
  {
   "cell_type": "code",
   "execution_count": 57,
   "metadata": {},
   "outputs": [],
   "source": [
    "df3=df3.drop(['len'],axis=1)"
   ]
  },
  {
   "cell_type": "code",
   "execution_count": 58,
   "metadata": {},
   "outputs": [
    {
     "data": {
      "text/html": [
       "<div>\n",
       "<style scoped>\n",
       "    .dataframe tbody tr th:only-of-type {\n",
       "        vertical-align: middle;\n",
       "    }\n",
       "\n",
       "    .dataframe tbody tr th {\n",
       "        vertical-align: top;\n",
       "    }\n",
       "\n",
       "    .dataframe thead th {\n",
       "        text-align: right;\n",
       "    }\n",
       "</style>\n",
       "<table border=\"1\" class=\"dataframe\">\n",
       "  <thead>\n",
       "    <tr style=\"text-align: right;\">\n",
       "      <th></th>\n",
       "      <th>Title</th>\n",
       "      <th>Author</th>\n",
       "      <th>Supervisor</th>\n",
       "      <th>Degree</th>\n",
       "      <th>Department</th>\n",
       "      <th>Abstract</th>\n",
       "      <th>URL</th>\n",
       "      <th>Date</th>\n",
       "    </tr>\n",
       "  </thead>\n",
       "  <tbody>\n",
       "    <tr>\n",
       "      <th>0</th>\n",
       "      <td>Effect of Acoustic perturbation on the Transit...</td>\n",
       "      <td>Tiwari, Akhilesh S</td>\n",
       "      <td>Kumar, Sanjay</td>\n",
       "      <td>M.TECH.</td>\n",
       "      <td>AE</td>\n",
       "      <td>An experimental study of the effect of acousti...</td>\n",
       "      <td>http://172.28.64.70:8080/jspui/handle/12345678...</td>\n",
       "      <td>2020</td>\n",
       "    </tr>\n",
       "    <tr>\n",
       "      <th>1</th>\n",
       "      <td>Design of Graphene and Carbon Black Based Plan...</td>\n",
       "      <td>Arora, Mayank</td>\n",
       "      <td>Akhtar, M Jaleel</td>\n",
       "      <td>M.TECH.</td>\n",
       "      <td>MSP</td>\n",
       "      <td>The application of attenuators in the RF and m...</td>\n",
       "      <td>http://172.28.64.70:8080/jspui/handle/12345678...</td>\n",
       "      <td>2020</td>\n",
       "    </tr>\n",
       "  </tbody>\n",
       "</table>\n",
       "</div>"
      ],
      "text/plain": [
       "                                               Title              Author  \\\n",
       "0  Effect of Acoustic perturbation on the Transit...  Tiwari, Akhilesh S   \n",
       "1  Design of Graphene and Carbon Black Based Plan...       Arora, Mayank   \n",
       "\n",
       "         Supervisor   Degree Department  \\\n",
       "0     Kumar, Sanjay  M.TECH.         AE   \n",
       "1  Akhtar, M Jaleel  M.TECH.        MSP   \n",
       "\n",
       "                                            Abstract  \\\n",
       "0  An experimental study of the effect of acousti...   \n",
       "1  The application of attenuators in the RF and m...   \n",
       "\n",
       "                                                 URL  Date  \n",
       "0  http://172.28.64.70:8080/jspui/handle/12345678...  2020  \n",
       "1  http://172.28.64.70:8080/jspui/handle/12345678...  2020  "
      ]
     },
     "execution_count": 58,
     "metadata": {},
     "output_type": "execute_result"
    }
   ],
   "source": [
    "df3.head(2)"
   ]
  },
  {
   "cell_type": "code",
   "execution_count": 59,
   "metadata": {},
   "outputs": [],
   "source": [
    "df3['id']=np.arange(len(df3))"
   ]
  },
  {
   "cell_type": "code",
   "execution_count": 60,
   "metadata": {},
   "outputs": [
    {
     "data": {
      "text/html": [
       "<div>\n",
       "<style scoped>\n",
       "    .dataframe tbody tr th:only-of-type {\n",
       "        vertical-align: middle;\n",
       "    }\n",
       "\n",
       "    .dataframe tbody tr th {\n",
       "        vertical-align: top;\n",
       "    }\n",
       "\n",
       "    .dataframe thead th {\n",
       "        text-align: right;\n",
       "    }\n",
       "</style>\n",
       "<table border=\"1\" class=\"dataframe\">\n",
       "  <thead>\n",
       "    <tr style=\"text-align: right;\">\n",
       "      <th></th>\n",
       "      <th>Title</th>\n",
       "      <th>Author</th>\n",
       "      <th>Supervisor</th>\n",
       "      <th>Degree</th>\n",
       "      <th>Department</th>\n",
       "      <th>Abstract</th>\n",
       "      <th>URL</th>\n",
       "      <th>Date</th>\n",
       "      <th>id</th>\n",
       "    </tr>\n",
       "  </thead>\n",
       "  <tbody>\n",
       "    <tr>\n",
       "      <th>0</th>\n",
       "      <td>Effect of Acoustic perturbation on the Transit...</td>\n",
       "      <td>Tiwari, Akhilesh S</td>\n",
       "      <td>Kumar, Sanjay</td>\n",
       "      <td>M.TECH.</td>\n",
       "      <td>AE</td>\n",
       "      <td>An experimental study of the effect of acousti...</td>\n",
       "      <td>http://172.28.64.70:8080/jspui/handle/12345678...</td>\n",
       "      <td>2020</td>\n",
       "      <td>0</td>\n",
       "    </tr>\n",
       "  </tbody>\n",
       "</table>\n",
       "</div>"
      ],
      "text/plain": [
       "                                               Title              Author  \\\n",
       "0  Effect of Acoustic perturbation on the Transit...  Tiwari, Akhilesh S   \n",
       "\n",
       "      Supervisor   Degree Department  \\\n",
       "0  Kumar, Sanjay  M.TECH.         AE   \n",
       "\n",
       "                                            Abstract  \\\n",
       "0  An experimental study of the effect of acousti...   \n",
       "\n",
       "                                                 URL  Date  id  \n",
       "0  http://172.28.64.70:8080/jspui/handle/12345678...  2020   0  "
      ]
     },
     "execution_count": 60,
     "metadata": {},
     "output_type": "execute_result"
    }
   ],
   "source": [
    "df3.head(1)"
   ]
  },
  {
   "cell_type": "code",
   "execution_count": 61,
   "metadata": {},
   "outputs": [],
   "source": [
    "df3['id']=np.arange(len(df3))"
   ]
  },
  {
   "cell_type": "code",
   "execution_count": 62,
   "metadata": {},
   "outputs": [
    {
     "data": {
      "text/plain": [
       "['id',\n",
       " 'Title',\n",
       " 'Author',\n",
       " 'Supervisor',\n",
       " 'Degree',\n",
       " 'Department',\n",
       " 'Abstract',\n",
       " 'URL',\n",
       " 'Date']"
      ]
     },
     "execution_count": 62,
     "metadata": {},
     "output_type": "execute_result"
    }
   ],
   "source": [
    "cols = df3.columns.tolist()\n",
    "cols.insert(0, cols.pop(cols.index('id')))\n",
    "cols"
   ]
  },
  {
   "cell_type": "code",
   "execution_count": 63,
   "metadata": {},
   "outputs": [],
   "source": [
    "df3 = df3.reindex(columns= cols)"
   ]
  },
  {
   "cell_type": "code",
   "execution_count": 64,
   "metadata": {},
   "outputs": [
    {
     "data": {
      "text/html": [
       "<div>\n",
       "<style scoped>\n",
       "    .dataframe tbody tr th:only-of-type {\n",
       "        vertical-align: middle;\n",
       "    }\n",
       "\n",
       "    .dataframe tbody tr th {\n",
       "        vertical-align: top;\n",
       "    }\n",
       "\n",
       "    .dataframe thead th {\n",
       "        text-align: right;\n",
       "    }\n",
       "</style>\n",
       "<table border=\"1\" class=\"dataframe\">\n",
       "  <thead>\n",
       "    <tr style=\"text-align: right;\">\n",
       "      <th></th>\n",
       "      <th>id</th>\n",
       "      <th>Title</th>\n",
       "      <th>Author</th>\n",
       "      <th>Supervisor</th>\n",
       "      <th>Degree</th>\n",
       "      <th>Department</th>\n",
       "      <th>Abstract</th>\n",
       "      <th>URL</th>\n",
       "      <th>Date</th>\n",
       "    </tr>\n",
       "  </thead>\n",
       "  <tbody>\n",
       "    <tr>\n",
       "      <th>0</th>\n",
       "      <td>0</td>\n",
       "      <td>Effect of Acoustic perturbation on the Transit...</td>\n",
       "      <td>Tiwari, Akhilesh S</td>\n",
       "      <td>Kumar, Sanjay</td>\n",
       "      <td>M.TECH.</td>\n",
       "      <td>AE</td>\n",
       "      <td>An experimental study of the effect of acousti...</td>\n",
       "      <td>http://172.28.64.70:8080/jspui/handle/12345678...</td>\n",
       "      <td>2020</td>\n",
       "    </tr>\n",
       "  </tbody>\n",
       "</table>\n",
       "</div>"
      ],
      "text/plain": [
       "   id                                              Title              Author  \\\n",
       "0   0  Effect of Acoustic perturbation on the Transit...  Tiwari, Akhilesh S   \n",
       "\n",
       "      Supervisor   Degree Department  \\\n",
       "0  Kumar, Sanjay  M.TECH.         AE   \n",
       "\n",
       "                                            Abstract  \\\n",
       "0  An experimental study of the effect of acousti...   \n",
       "\n",
       "                                                 URL  Date  \n",
       "0  http://172.28.64.70:8080/jspui/handle/12345678...  2020  "
      ]
     },
     "execution_count": 64,
     "metadata": {},
     "output_type": "execute_result"
    }
   ],
   "source": [
    "df3.head(1)"
   ]
  },
  {
   "cell_type": "code",
   "execution_count": 65,
   "metadata": {},
   "outputs": [
    {
     "data": {
      "text/plain": [
       "['id',\n",
       " 'Title',\n",
       " 'Author',\n",
       " 'Supervisor',\n",
       " 'Degree',\n",
       " 'Department',\n",
       " 'Abstract',\n",
       " 'Date',\n",
       " 'URL']"
      ]
     },
     "execution_count": 65,
     "metadata": {},
     "output_type": "execute_result"
    }
   ],
   "source": [
    "cols = df3.columns.tolist()\n",
    "cols.insert(8, cols.pop(cols.index('URL')))\n",
    "cols"
   ]
  },
  {
   "cell_type": "code",
   "execution_count": 66,
   "metadata": {},
   "outputs": [],
   "source": [
    "df3 = df3.reindex(columns= cols)"
   ]
  },
  {
   "cell_type": "code",
   "execution_count": 67,
   "metadata": {},
   "outputs": [
    {
     "data": {
      "text/html": [
       "<div>\n",
       "<style scoped>\n",
       "    .dataframe tbody tr th:only-of-type {\n",
       "        vertical-align: middle;\n",
       "    }\n",
       "\n",
       "    .dataframe tbody tr th {\n",
       "        vertical-align: top;\n",
       "    }\n",
       "\n",
       "    .dataframe thead th {\n",
       "        text-align: right;\n",
       "    }\n",
       "</style>\n",
       "<table border=\"1\" class=\"dataframe\">\n",
       "  <thead>\n",
       "    <tr style=\"text-align: right;\">\n",
       "      <th></th>\n",
       "      <th>id</th>\n",
       "      <th>Title</th>\n",
       "      <th>Author</th>\n",
       "      <th>Supervisor</th>\n",
       "      <th>Degree</th>\n",
       "      <th>Department</th>\n",
       "      <th>Abstract</th>\n",
       "      <th>Date</th>\n",
       "      <th>URL</th>\n",
       "    </tr>\n",
       "  </thead>\n",
       "  <tbody>\n",
       "    <tr>\n",
       "      <th>0</th>\n",
       "      <td>0</td>\n",
       "      <td>Effect of Acoustic perturbation on the Transit...</td>\n",
       "      <td>Tiwari, Akhilesh S</td>\n",
       "      <td>Kumar, Sanjay</td>\n",
       "      <td>M.TECH.</td>\n",
       "      <td>AE</td>\n",
       "      <td>An experimental study of the effect of acousti...</td>\n",
       "      <td>2020</td>\n",
       "      <td>http://172.28.64.70:8080/jspui/handle/12345678...</td>\n",
       "    </tr>\n",
       "  </tbody>\n",
       "</table>\n",
       "</div>"
      ],
      "text/plain": [
       "   id                                              Title              Author  \\\n",
       "0   0  Effect of Acoustic perturbation on the Transit...  Tiwari, Akhilesh S   \n",
       "\n",
       "      Supervisor   Degree Department  \\\n",
       "0  Kumar, Sanjay  M.TECH.         AE   \n",
       "\n",
       "                                            Abstract  Date  \\\n",
       "0  An experimental study of the effect of acousti...  2020   \n",
       "\n",
       "                                                 URL  \n",
       "0  http://172.28.64.70:8080/jspui/handle/12345678...  "
      ]
     },
     "execution_count": 67,
     "metadata": {},
     "output_type": "execute_result"
    }
   ],
   "source": [
    "df3.head(1)"
   ]
  },
  {
   "cell_type": "code",
   "execution_count": 68,
   "metadata": {},
   "outputs": [],
   "source": [
    "df3.to_csv(\"Data_cleaned.csv\",index=False)"
   ]
  }
 ],
 "metadata": {
  "kernelspec": {
   "display_name": "Python 3",
   "language": "python",
   "name": "python3"
  },
  "language_info": {
   "codemirror_mode": {
    "name": "ipython",
    "version": 3
   },
   "file_extension": ".py",
   "mimetype": "text/x-python",
   "name": "python",
   "nbconvert_exporter": "python",
   "pygments_lexer": "ipython3",
   "version": "3.8.3"
  }
 },
 "nbformat": 4,
 "nbformat_minor": 2
}
